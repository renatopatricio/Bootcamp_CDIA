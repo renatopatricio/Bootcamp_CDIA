{
 "cells": [
  {
   "cell_type": "code",
   "execution_count": null,
   "id": "38984dea",
   "metadata": {
    "vscode": {
     "languageId": "plaintext"
    }
   },
   "outputs": [],
   "source": [
    "📊 Resultados Pós-Tuning\n",
    "🔹 Random Forest (Tuned)\n",
    "Classe 1 (falha)\n",
    "Precision: 0.46\n",
    "Recall: 0.53\n",
    "F1: 0.49\n",
    "Acurácia geral: 97.9%\n",
    "👉 Bom equilíbrio: melhorou recall em relação ao baseline e manteve acurácia alta.\n",
    "\n",
    "🔹 XGBoost (Tuned)\n",
    "Classe 1 (falha)\n",
    "Precision: 0.35\n",
    "Recall: 0.55\n",
    "F1: 0.43\n",
    "Acurácia geral: 97.2%\n",
    "👉 Ganhou recall, sacrificando precisão. Útil em cenários onde não perder falhas é prioridade.\n",
    "\n",
    "🔹 Stacking Ensemble (RF + XGBoost)\n",
    "Classe 1 (falha)\n",
    "Precision: 0.15\n",
    "Recall: 0.80\n",
    "F1: 0.25\n",
    "Acurácia geral: 91.3%\n",
    "👉 Recall explodiu para 80%, mas a precisão caiu muito (muitos falsos positivos). Isso pode ser valioso em casos críticos de manutenção preditiva, onde o custo de uma falha não detectada é enorme.\n",
    "\n",
    "✅ Conclusões Passo 6\n",
    "Random Forest Tunado: melhor opção se a empresa valoriza equilíbrio entre acerto geral e custo dos falsos positivos.\n",
    "XGBoost Tunado: ligeiramente melhor em recall, mas menos preciso.\n",
    "Stacking Ensemble: se a prioridade máxima for detectar falhas (mesmo com muitos alarmes falsos), é a melhor escolha.\n",
    "\n",
    "Na prática real:\n",
    "\n",
    "Para manutenção preditiva em fábricas, geralmente escolhe-se recall alto (não deixar falhas passarem batidas).\n",
    "Uma estratégia prática é implementar o Ensemble para monitoramento crítico e, em paralelo, usar o RF Tunado para análises confirmatórias e relatórios."
   ]
  }
 ],
 "metadata": {
  "language_info": {
   "name": "python"
  }
 },
 "nbformat": 4,
 "nbformat_minor": 5
}
