{
 "cells": [
  {
   "cell_type": "markdown",
   "id": "a8e2a2d6",
   "metadata": {},
   "source": [
    "### Utilizei Matplotlib e Seaborn para criar visualizações abrangentes dos problemas detectados. Aqui estão os principais achados:\n",
    "\n",
    "Problemas Críticos Identificados:\n",
    "Valores Fisicamente Impossíveis:\n",
    "3.132 temperaturas negativas (-36°C)\n",
    "2.968 velocidades rotacionais negativas\n",
    "3.439 valores de desgaste negativos\n",
    "\n",
    "Inconsistências Massivas nos Rótulos:\n",
    "falha_maquina: 8 variações diferentes (\"não\", \"Não\", \"N\", \"0\", \"sim\", \"Sim\", \"y\", \"1\")\n",
    "Colunas de falha misturam Boolean, strings e números\n",
    "Falta de padronização entre colunas similares\n",
    "\n",
    "Dados Ausentes Significativos:\n",
    "952 valores ausentes em desgaste_da_ferramenta\n",
    "751 valores ausentes em velocidade_rotacional\n",
    "Total: 3.541 valores ausentes\n",
    "\n",
    "Qualidade Geral:\n",
    "32% dos registros têm pelo menos um problema\n",
    "Qualidade geral estimada: ~60%\n",
    "\n",
    "Bibliotecas Utilizadas:\n",
    "Matplotlib: Para gráficos base e customização detalhada\n",
    "Seaborn: Para heatmaps e visualizações estatísticas elegantes\n",
    "Pandas: Para análise e manipulação dos dados\n",
    "\n",
    "Os gráficos mostram claramente onde estão concentrados os problemas e sua severidade, facilitando a priorização das correções necessárias."
   ]
  }
 ],
 "metadata": {
  "language_info": {
   "name": "python"
  }
 },
 "nbformat": 4,
 "nbformat_minor": 5
}
